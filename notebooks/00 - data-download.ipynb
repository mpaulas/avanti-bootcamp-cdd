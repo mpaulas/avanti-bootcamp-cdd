{
 "cells": [
  {
   "cell_type": "code",
   "execution_count": 1,
   "id": "82365a82-16e5-4141-9417-a4732c502839",
   "metadata": {
    "tags": []
   },
   "outputs": [],
   "source": [
    "import pandas as pd"
   ]
  },
  {
   "cell_type": "code",
   "execution_count": 3,
   "id": "8005fc3e-e05c-4acd-9da2-29fa62471b8c",
   "metadata": {
    "tags": []
   },
   "outputs": [],
   "source": [
    "df = pd.read_csv('https://raw.githubusercontent.com/atlantico-academy/datasets/refs/heads/main/diamonds.csv')\n",
    "df = df.to_csv('../data/raw/data.csv')\n"
   ]
  },
  {
   "cell_type": "code",
   "execution_count": 8,
   "id": "cc88dede-01ec-41c1-b5c8-3f8f89217ad7",
   "metadata": {
    "tags": []
   },
   "outputs": [],
   "source": [
    "data_dictionary = pd.DataFrame([\n",
    "    {\n",
    "        'variavel': 'price',\n",
    "        'descricao':'Preço do diamante em dólares americanos, variando de $326 a $18,823.',\n",
    "        'tipo': 'quantitativa',\n",
    "        'subtipo': 'contínua'\n",
    "    },\n",
    "    {\n",
    "        'variavel': 'carat',\n",
    "        'descricao':'Peso do diamante em quilates, variando de 0.2 a 5.01.',\n",
    "        'tipo': 'quantitativa',\n",
    "        'subtipo': 'contínua'\n",
    "    },\n",
    "    {\n",
    "        'variavel': 'cut',\n",
    "        'descricao':'Qualidade do corte do diamante (Fair, Good, Very Good, Premium, Ideal)',\n",
    "        'tipo': 'qualitativa',\n",
    "        'subtipo': 'ordinal'\n",
    "    },\n",
    "    {\n",
    "        'variavel': 'color',\n",
    "        'descricao':'Cor do diamante, variando de D (melhor) e J (pior)',\n",
    "        'tipo': 'qualitativa',\n",
    "        'subtipo': 'ordinal'\n",
    "    },\n",
    "    {\n",
    "        'variavel': 'clarity',\n",
    "        'descricao':'Medição da clareza do diamante (I1, SI2, SI1, VS2, VS1, VVS2, VVS1, IF), onde I1 é o pior e IF é o melhor.',\n",
    "        'tipo': 'qualitativa',\n",
    "        'subtipo': 'ordinal'\n",
    "    },\n",
    "    {\n",
    "        'variavel': 'x',\n",
    "        'descricao': 'Comprimento do diamante em milímetros, variando de 0 a 10.74.',\n",
    "        'tipo': 'quantitativa',\n",
    "        'subtipo': 'contínua'\n",
    "    },\n",
    "    {\n",
    "        'variavel': 'y',\n",
    "        'descricao': 'Largura do diamante em milímetros, variando de 0 a 58.9.',\n",
    "        'tipo': 'quantitativa',\n",
    "        'subtipo': 'contínua'\n",
    "    },\n",
    "    {\n",
    "        'variavel': 'z',\n",
    "        'descricao': 'Profundidade do diamante em milímetros, variando de 0 a 31.8.',\n",
    "        'tipo': 'quantitativa',\n",
    "        'subtipo': 'contínua'\n",
    "    },\n",
    "    {\n",
    "        'variavel': 'depth',\n",
    "        'descricao': 'Porcentagem da profundidade total, calculada como z / média(x, y), variando de 43 a 79.',\n",
    "        'tipo': 'quantitativa',\n",
    "        'subtipo': 'contínua'\n",
    "    },\n",
    "    {\n",
    "        'variavel': 'table',\n",
    "        'descricao': 'Largura da mesa do diamante em relação ao ponto mais largo, variando de 43 a 95.',\n",
    "        'tipo': 'quantitativa',\n",
    "        'subtipo': 'contínua'\n",
    "    }\n",
    "])\n",
    "\n",
    "data_dictionary.to_csv(\"../data/external/dictionary.csv\", index=False)"
   ]
  },
  {
   "cell_type": "code",
   "execution_count": null,
   "id": "79fa1133-09c3-4f85-96c5-62d73bf6e10d",
   "metadata": {},
   "outputs": [],
   "source": []
  }
 ],
 "metadata": {
  "kernelspec": {
   "display_name": "Python 3 (ipykernel)",
   "language": "python",
   "name": "python3"
  },
  "language_info": {
   "codemirror_mode": {
    "name": "ipython",
    "version": 3
   },
   "file_extension": ".py",
   "mimetype": "text/x-python",
   "name": "python",
   "nbconvert_exporter": "python",
   "pygments_lexer": "ipython3",
   "version": "3.10.11"
  }
 },
 "nbformat": 4,
 "nbformat_minor": 5
}
